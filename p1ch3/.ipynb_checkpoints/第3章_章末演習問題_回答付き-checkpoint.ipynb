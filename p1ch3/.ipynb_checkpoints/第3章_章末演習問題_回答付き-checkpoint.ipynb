{
 "cells": [
  {
   "cell_type": "markdown",
   "metadata": {
    "id": "WehYXzWpwhi1"
   },
   "source": [
    "第3章の章末演習問題"
   ]
  },
  {
   "cell_type": "markdown",
   "metadata": {
    "id": "lRoPRKcMwlbZ"
   },
   "source": [
    "### [1] list(range(9))からテンソルaを作成して、サイズ、オフセット、ストライドを確認してください。\n",
    "※ ここではGoogle Colaraboratoryでの実行を想定しています。\n"
   ]
  },
  {
   "cell_type": "markdown",
   "metadata": {
    "id": "FSZC8BAJw9A-"
   },
   "source": [
    "#### （a） b = a.view(3, 3)を使って新しいテンソルを作成します。viewはどんな動作をするのか？またaとbが同じストレージを共有していることを確認してください。"
   ]
  },
  {
   "cell_type": "code",
   "execution_count": null,
   "metadata": {
    "id": "kduB0LXvxL0b"
   },
   "outputs": [],
   "source": [
    "# 回答"
   ]
  },
  {
   "cell_type": "code",
   "execution_count": 1,
   "metadata": {
    "id": "WNLfhqkkdhHw"
   },
   "outputs": [
    {
     "data": {
      "text/plain": [
       "True"
      ]
     },
     "execution_count": 1,
     "metadata": {},
     "output_type": "execute_result"
    }
   ],
   "source": [
    "import numpy as np\n",
    "import torch \n",
    "\n",
    "a = torch.arange(0,9)\n",
    "b = a.view(3,3)\n",
    "\n",
    "id(a.storage()) == id(b.storage())"
   ]
  },
  {
   "cell_type": "code",
   "execution_count": 9,
   "metadata": {
    "id": "wnQ9m7sNBPA4"
   },
   "outputs": [
    {
     "name": "stdout",
     "output_type": "stream",
     "text": [
      "tensor([0, 1, 2, 3, 4, 5, 6, 7, 8])\n",
      "tensor([[0, 1, 2],\n",
      "        [3, 4, 5],\n",
      "        [6, 7, 8]])\n"
     ]
    }
   ],
   "source": [
    "print(a)\n",
    "print(b)"
   ]
  },
  {
   "cell_type": "code",
   "execution_count": null,
   "metadata": {
    "id": "yKRvbvXoBSbA"
   },
   "outputs": [],
   "source": [
    "# このように、変数aとbは同じストレージの値を参照していますが、テンソルの形が異なっており、この形の変形はa.view(3.3)で実行されています"
   ]
  },
  {
   "cell_type": "markdown",
   "metadata": {
    "id": "YO24ioODyKtO"
   },
   "source": [
    "    #### （b） テンソル c = b[1:,1:]を作成し、サイズ、オフセット、ストライドを確認してください"
   ]
  },
  {
   "cell_type": "code",
   "execution_count": null,
   "metadata": {
    "id": "U_7dlCScyWYr"
   },
   "outputs": [],
   "source": [
    "# 回答"
   ]
  },
  {
   "cell_type": "code",
   "execution_count": 2,
   "metadata": {
    "id": "9dB_TJgpfSXw"
   },
   "outputs": [
    {
     "name": "stdout",
     "output_type": "stream",
     "text": [
      "size: torch.Size([2, 2])\n",
      " offset: 4\n",
      " stride: (3, 1)\n",
      "\n"
     ]
    }
   ],
   "source": [
    "c = b[1:,1:]\n",
    "print(f\"size: {c.size()}\\n\", f\"offset: {c.storage_offset()}\\n\", f\"stride: {c.stride()}\\n\")"
   ]
  },
  {
   "cell_type": "markdown",
   "metadata": {
    "id": "EdWttSfHzGKz"
   },
   "source": [
    "### [2] torch ライブラリからcosineやsquare rootのような数学の演算に対応する関数を見つけてください。"
   ]
  },
  {
   "cell_type": "markdown",
   "metadata": {
    "id": "9yzctZuLzODR"
   },
   "source": [
    "#### （a） 関数を要素ごとに変数aに適用してください。なぜエラーが発生するのでしょう？"
   ]
  },
  {
   "cell_type": "code",
   "execution_count": null,
   "metadata": {
    "id": "DFq3TaQBy-ZE"
   },
   "outputs": [],
   "source": [
    "# 回答\n"
   ]
  },
  {
   "cell_type": "code",
   "execution_count": 7,
   "metadata": {
    "id": "PhKbvoISlOJ1"
   },
   "outputs": [
    {
     "ename": "RuntimeError",
     "evalue": "cos_vml_cpu not implemented for 'Long'",
     "output_type": "error",
     "traceback": [
      "\u001b[0;31m---------------------------------------------------------------------------\u001b[0m",
      "\u001b[0;31mRuntimeError\u001b[0m                              Traceback (most recent call last)",
      "\u001b[0;32m<ipython-input-7-0defa5383d3a>\u001b[0m in \u001b[0;36m<module>\u001b[0;34m\u001b[0m\n\u001b[1;32m      1\u001b[0m \u001b[0;31m# これはエラー：float型にする\u001b[0m\u001b[0;34m\u001b[0m\u001b[0;34m\u001b[0m\u001b[0;34m\u001b[0m\u001b[0m\n\u001b[0;32m----> 2\u001b[0;31m \u001b[0mprint\u001b[0m\u001b[0;34m(\u001b[0m\u001b[0mtorch\u001b[0m\u001b[0;34m.\u001b[0m\u001b[0mcos\u001b[0m\u001b[0;34m(\u001b[0m\u001b[0ma\u001b[0m\u001b[0;34m)\u001b[0m\u001b[0;34m)\u001b[0m\u001b[0;34m\u001b[0m\u001b[0;34m\u001b[0m\u001b[0m\n\u001b[0m",
      "\u001b[0;31mRuntimeError\u001b[0m: cos_vml_cpu not implemented for 'Long'"
     ]
    }
   ],
   "source": [
    "# これはエラー：float型にする\n",
    "print(torch.cos(a))\n"
   ]
  },
  {
   "cell_type": "code",
   "execution_count": null,
   "metadata": {
    "id": "sZeUpPblBvDH"
   },
   "outputs": [],
   "source": [
    "# aがLong型である点が問題です"
   ]
  },
  {
   "cell_type": "markdown",
   "metadata": {
    "id": "OBEZN-2gzy-P"
   },
   "source": [
    "#### （b） 関数を実行可能にするために、どのような操作が必要なのでしょうか？"
   ]
  },
  {
   "cell_type": "code",
   "execution_count": 6,
   "metadata": {
    "id": "4e-l9C2S5Ihj"
   },
   "outputs": [],
   "source": [
    "# 回答"
   ]
  },
  {
   "cell_type": "code",
   "execution_count": 5,
   "metadata": {
    "id": "4wXs0jgrz3EE"
   },
   "outputs": [
    {
     "name": "stdout",
     "output_type": "stream",
     "text": [
      "tensor([ 1.0000,  0.5403, -0.4161, -0.9900, -0.6536,  0.2837,  0.9602,  0.7539,\n",
      "        -0.1455])\n"
     ]
    }
   ],
   "source": [
    "# float型にする\n",
    "print(torch.cos(a.float()))"
   ]
  },
  {
   "cell_type": "markdown",
   "metadata": {
    "id": "Ei2PjV2b1pVy"
   },
   "source": [
    "#### （c） 何か自作の関数があれば、動かしてみましょう。"
   ]
  },
  {
   "cell_type": "code",
   "execution_count": null,
   "metadata": {
    "id": "6ij9x9461uDC"
   },
   "outputs": [],
   "source": [
    "# 省略"
   ]
  },
  {
   "cell_type": "markdown",
   "metadata": {
    "id": "6RKZsWxPz6kz"
   },
   "source": [
    "以上。\n"
   ]
  }
 ],
 "metadata": {
  "colab": {
   "collapsed_sections": [],
   "name": "第3章_章末演習問題_回答付き.ipynb",
   "provenance": []
  },
  "kernelspec": {
   "display_name": "Python 3",
   "language": "python",
   "name": "python3"
  },
  "language_info": {
   "codemirror_mode": {
    "name": "ipython",
    "version": 3
   },
   "file_extension": ".py",
   "mimetype": "text/x-python",
   "name": "python",
   "nbconvert_exporter": "python",
   "pygments_lexer": "ipython3",
   "version": "3.7.6"
  }
 },
 "nbformat": 4,
 "nbformat_minor": 1
}
