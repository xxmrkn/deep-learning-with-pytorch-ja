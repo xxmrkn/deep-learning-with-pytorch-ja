{
 "cells": [
  {
   "cell_type": "markdown",
   "metadata": {
    "id": "WehYXzWpwhi1"
   },
   "source": [
    "第4章の章末演習問題"
   ]
  },
  {
   "cell_type": "markdown",
   "metadata": {
    "id": "lRoPRKcMwlbZ"
   },
   "source": [
    "### [1] 携帯電話やデジタルカメラで、赤、青、緑の物体の写真を何枚か撮りましょう（カメラがない場合は、インターネットからダウンロードすることもできます）。\n",
    "※ ここではGoogle Colaraboratoryでの実行を想定しています。\n"
   ]
  },
  {
   "cell_type": "markdown",
   "metadata": {
    "id": "YnFAcuysEQDq"
   },
   "source": [
    "※本フォルダに、無料写真素材　写真AC（商用利用可）のデータを配置しています。\n",
    "\n",
    "apple.jpg、sky.jpg、forest.jpg\n",
    "\n",
    "\n",
    "https://www.photo-ac.com/main/detail/345453?title=%E3%83%AA%E3%83%B3%E3%82%B4&searchId=68658080\n",
    "\n",
    "https://www.photo-ac.com/main/detail/3343123?title=%E3%81%99%E3%81%A3%E3%81%8D%E3%82%8A%E6%99%B4%E3%82%8C%E3%82%84%E3%81%8B%E3%81%AA%E5%A4%8F%E3%81%AE%E7%A9%BA&searchId=68660407\n",
    "\n",
    "https://www.photo-ac.com/main/detail/3518379?title=%E6%A8%B9%E6%9C%A8_%E6%A3%AE%E6%9E%97_3&searchId=68662146\n",
    "\n"
   ]
  },
  {
   "cell_type": "markdown",
   "metadata": {
    "id": "FSZC8BAJw9A-"
   },
   "source": [
    "#### （a）各画像を読み込み、テンソルに変換してください。"
   ]
  },
  {
   "cell_type": "code",
   "execution_count": null,
   "metadata": {
    "id": "kduB0LXvxL0b"
   },
   "outputs": [],
   "source": [
    "# 回答"
   ]
  },
  {
   "cell_type": "markdown",
   "metadata": {
    "id": "YO24ioODyKtO"
   },
   "source": [
    "#### (b）各画像テンソルについて、.mean()メソッドを使用して、画像の明るさを求めてください。"
   ]
  },
  {
   "cell_type": "code",
   "execution_count": null,
   "metadata": {
    "id": "U_7dlCScyWYr"
   },
   "outputs": [],
   "source": [
    "# 回答"
   ]
  },
  {
   "cell_type": "markdown",
   "metadata": {
    "id": "y6rfvnbqJloe"
   },
   "source": [
    "#### （c）各画像の各チャンネルの平均を取ってください。求めたチャンネルの平均値だけから、赤、緑、青の物体を識別できるか確認してください。"
   ]
  },
  {
   "cell_type": "code",
   "execution_count": 26,
   "metadata": {
    "id": "41982_5lCCUL"
   },
   "outputs": [],
   "source": [
    "# 回答"
   ]
  },
  {
   "cell_type": "markdown",
   "metadata": {
    "id": "EdWttSfHzGKz"
   },
   "source": [
    "### [2] Pythonのソースコードを含む比較的大きなファイルを用意してください。\n",
    "\n",
    "※https://github.com/YutaroOgawa/pytorch_advanced/blob/master/1_image_classification/utils/dataloader_image_classification.py\n",
    "\n",
    "をフォルダ内に用意しています。\n"
   ]
  },
  {
   "cell_type": "markdown",
   "metadata": {
    "id": "9yzctZuLzODR"
   },
   "source": [
    "#### （a）ソースファイル内のすべての単語のインデックスを作成してください (トークン化はシンプルにしても複雑にしても構いません。 最初は正規表現r\"[^a-zA-Z0-9_]+\"とスペースで、単語を一度置き換えることをおすすめします)。"
   ]
  },
  {
   "cell_type": "code",
   "execution_count": null,
   "metadata": {
    "id": "DFq3TaQBy-ZE"
   },
   "outputs": [],
   "source": [
    "# 回答\n"
   ]
  },
  {
   "cell_type": "markdown",
   "metadata": {
    "id": "OBEZN-2gzy-P"
   },
   "source": [
    "#### （b）本章の「高慢と偏見」で作ったインデックスと比較してみてください。どちらの方がサイズは大きいですか？"
   ]
  },
  {
   "cell_type": "code",
   "execution_count": null,
   "metadata": {
    "id": "4e-l9C2S5Ihj"
   },
   "outputs": [],
   "source": [
    "# 回答"
   ]
  },
  {
   "cell_type": "markdown",
   "metadata": {
    "id": "Ei2PjV2b1pVy"
   },
   "source": [
    "#### （c）ソースコードファイルのワンホットエンコーディングを作成してください。"
   ]
  },
  {
   "cell_type": "code",
   "execution_count": null,
   "metadata": {
    "id": "6ij9x9461uDC"
   },
   "outputs": [],
   "source": [
    "# 回答"
   ]
  },
  {
   "cell_type": "markdown",
   "metadata": {
    "id": "bT84rW88KnwC"
   },
   "source": [
    "#### （d）今回のエンコーディングで失われる情報は何でしょうか？本章での「高慢と偏見」のエンコーディングで失われた情報と比較してみてください。"
   ]
  },
  {
   "cell_type": "code",
   "execution_count": null,
   "metadata": {
    "id": "kgJ_bDJzKrcA"
   },
   "outputs": [],
   "source": [
    "# 回答"
   ]
  },
  {
   "cell_type": "code",
   "execution_count": null,
   "metadata": {
    "id": "Xqu60yKps9Rh"
   },
   "outputs": [],
   "source": [
    "#　省略"
   ]
  },
  {
   "cell_type": "markdown",
   "metadata": {
    "id": "6RKZsWxPz6kz"
   },
   "source": [
    "以上。\n"
   ]
  }
 ],
 "metadata": {
  "colab": {
   "collapsed_sections": [],
   "name": "第4章_章末演習問題.ipynb",
   "provenance": []
  },
  "kernelspec": {
   "display_name": "Python 3",
   "language": "python",
   "name": "python3"
  },
  "language_info": {
   "codemirror_mode": {
    "name": "ipython",
    "version": 3
   },
   "file_extension": ".py",
   "mimetype": "text/x-python",
   "name": "python",
   "nbconvert_exporter": "python",
   "pygments_lexer": "ipython3",
   "version": "3.7.6"
  }
 },
 "nbformat": 4,
 "nbformat_minor": 1
}
