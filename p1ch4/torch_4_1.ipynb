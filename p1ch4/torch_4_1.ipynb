{
 "cells": [
  {
   "cell_type": "code",
   "execution_count": 4,
   "metadata": {},
   "outputs": [],
   "source": [
    "import torch"
   ]
  },
  {
   "cell_type": "code",
   "execution_count": 1,
   "metadata": {},
   "outputs": [
    {
     "data": {
      "text/plain": [
       "(720, 1280, 3)"
      ]
     },
     "execution_count": 1,
     "metadata": {},
     "output_type": "execute_result"
    }
   ],
   "source": [
    "import imageio\n",
    "\n",
    "img_arr = imageio.imread('../data/p1ch4/image-dog/bobby.jpg')\n",
    "img_arr.shape"
   ]
  },
  {
   "cell_type": "code",
   "execution_count": 2,
   "metadata": {},
   "outputs": [
    {
     "data": {
      "text/plain": [
       "Array([[[ 77,  45,  22],\n",
       "        [ 77,  45,  22],\n",
       "        [ 78,  46,  21],\n",
       "        ...,\n",
       "        [118,  78,  52],\n",
       "        [117,  77,  51],\n",
       "        [116,  76,  51]],\n",
       "\n",
       "       [[ 75,  43,  20],\n",
       "        [ 76,  44,  21],\n",
       "        [ 77,  45,  20],\n",
       "        ...,\n",
       "        [118,  78,  52],\n",
       "        [117,  77,  51],\n",
       "        [116,  76,  50]],\n",
       "\n",
       "       [[ 74,  39,  17],\n",
       "        [ 75,  41,  16],\n",
       "        [ 77,  43,  18],\n",
       "        ...,\n",
       "        [119,  80,  51],\n",
       "        [117,  77,  51],\n",
       "        [116,  76,  50]],\n",
       "\n",
       "       ...,\n",
       "\n",
       "       [[215, 165,  78],\n",
       "        [216, 166,  79],\n",
       "        [217, 167,  80],\n",
       "        ...,\n",
       "        [172, 122,  51],\n",
       "        [174, 124,  53],\n",
       "        [174, 124,  53]],\n",
       "\n",
       "       [[215, 165,  78],\n",
       "        [216, 166,  79],\n",
       "        [217, 167,  80],\n",
       "        ...,\n",
       "        [173, 123,  54],\n",
       "        [174, 124,  55],\n",
       "        [174, 124,  55]],\n",
       "\n",
       "       [[215, 165,  78],\n",
       "        [216, 166,  79],\n",
       "        [217, 167,  80],\n",
       "        ...,\n",
       "        [159, 108,  42],\n",
       "        [158, 107,  41],\n",
       "        [158, 107,  41]]], dtype=uint8)"
      ]
     },
     "execution_count": 2,
     "metadata": {},
     "output_type": "execute_result"
    }
   ],
   "source": [
    "img_arr"
   ]
  },
  {
   "cell_type": "code",
   "execution_count": 5,
   "metadata": {},
   "outputs": [],
   "source": [
    "img = torch.from_numpy(img_arr)\n",
    "out = img.permute(2,0,1)"
   ]
  },
  {
   "cell_type": "code",
   "execution_count": 6,
   "metadata": {},
   "outputs": [
    {
     "data": {
      "text/plain": [
       "torch.Size([3, 720, 1280])"
      ]
     },
     "execution_count": 6,
     "metadata": {},
     "output_type": "execute_result"
    }
   ],
   "source": [
    "out.shape"
   ]
  },
  {
   "cell_type": "code",
   "execution_count": 7,
   "metadata": {},
   "outputs": [],
   "source": [
    "batch_size = 3\n",
    "batch = torch.zeros(batch_size, 3, 256, 256, dtype=torch.uint8)"
   ]
  },
  {
   "cell_type": "code",
   "execution_count": 9,
   "metadata": {},
   "outputs": [],
   "source": [
    "import os\n",
    "\n",
    "data_dir = '../data/p1ch4/image-cats/'\n",
    "filenames = [name for name in os.listdir(data_dir) if os.path.splitext(name)[-1] == '.png']\n",
    "\n",
    "for i, filename in enumerate(filenames):\n",
    "    img_arr = imageio.imread(os.path.join(data_dir, filename))\n",
    "    img_t = torch.from_numpy(img_arr)\n",
    "    img_t = img_t.permute(2, 0, 1)\n",
    "    img_t = img_t[:3]\n",
    "    batch[i] = img_t"
   ]
  },
  {
   "cell_type": "code",
   "execution_count": 12,
   "metadata": {},
   "outputs": [],
   "source": [
    "batch = batch.float()\n",
    "batch /= 255.0"
   ]
  },
  {
   "cell_type": "code",
   "execution_count": 16,
   "metadata": {},
   "outputs": [],
   "source": [
    "n_channels = batch.shape[1]\n",
    "for c in range(n_channels):\n",
    "    mean = torch.mean(batch[:, c])\n",
    "    std = torch.std(batch[:, c])\n",
    "    batch[:, c] = (batch[:, c] - mean) /std"
   ]
  },
  {
   "cell_type": "code",
   "execution_count": 17,
   "metadata": {},
   "outputs": [
    {
     "data": {
      "text/plain": [
       "3"
      ]
     },
     "execution_count": 17,
     "metadata": {},
     "output_type": "execute_result"
    }
   ],
   "source": []
  }
 ],
 "metadata": {
  "kernelspec": {
   "display_name": "Python 3",
   "language": "python",
   "name": "python3"
  },
  "language_info": {
   "codemirror_mode": {
    "name": "ipython",
    "version": 3
   },
   "file_extension": ".py",
   "mimetype": "text/x-python",
   "name": "python",
   "nbconvert_exporter": "python",
   "pygments_lexer": "ipython3",
   "version": "3.7.6"
  }
 },
 "nbformat": 4,
 "nbformat_minor": 4
}
